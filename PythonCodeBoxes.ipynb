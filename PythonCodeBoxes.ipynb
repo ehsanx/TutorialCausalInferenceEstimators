{
 "cells": [
  {
   "cell_type": "markdown",
   "metadata": {},
   "source": [
    "# Tutorial: causal inference methods made easy for applied resarchers/epidemiologists/statisticians \n",
    "\n",
    "### ICON-LSHTM, LONDON, 16th October 2020\n",
    "\n",
    "Miguel Angel Luque Fernandez, PhD\n",
    "\n",
    "Assistant Professor of Epidemiology and Biostatistics\n",
    "\n",
    "Matthew Smith, PhD\n",
    "\n",
    "Research Fellow\n",
    "\n",
    "Paul Zivich\n",
    "\n",
    "University of North Carolina at Chapel Hill\n",
    "\n",
    "Inequalities in Cancer Outcomes Network, LSHTM, London, UK\n",
    "\n",
    "Copyright (c) 2020 Permission is hereby granted, free of charge, to any person obtaining a copy of this software and associated documentation files (the \"Software\"), to deal in the Software without restriction, including without limitation the rights to use, copy, modify, merge, publish, distribute, sublicense, and/or sell copies of the Software, and to permit persons to whom the Software is furnished to do so, subject to the following conditions: The above copyright notice and this permission notice shall be included in all copies or substantial portions of the Software.\n",
    "\n",
    "THE SOFTWARE IS PROVIDED \"AS IS\", WITHOUT WARRANTY OF ANY KIND, EXPRESS OR IMPLIED, INCLUDING BUT NOT LIMITED TO THE WARRANTIES OF MERCHANTABILITY, FITNESS FOR A PARTICULAR PURPOSE AND NON-INFRINGEMENT. IN NO EVENT SHALL THE AUTHORS OR COPYRIGHT HOLDERS BE LIABLE FOR ANY CLAIM, DAMAGES OR OTHER LIABILITY, WHETHER IN AN ACTION OF CONTRACT, TORT OR OTHERWISE, ARISING FROM, OUT OF OR IN CONNECTION WITH THE SOFTWARE OR THE USE OR OTHER DEALINGS IN THE SOFTWARE.\n",
    "\n",
    "Bug reports: miguel-angel.luque at lshtm.ac.uk\t\n",
    "\n",
    "The rhc dataset can be dowloaded at http://biostat.mc.vanderbilt.edu/wiki/Main/DataSets"
   ]
  },
  {
   "cell_type": "code",
   "execution_count": 1,
   "metadata": {},
   "outputs": [
    {
     "name": "stdout",
     "output_type": "stream",
     "text": [
      "patsy       0.5.1\n",
      "numpy       1.19.1\n",
      "pandas      1.1.0\n",
      "statsmodels 0.11.1\n"
     ]
    }
   ],
   "source": [
    "# Importing libraries for the tutorial\n",
    "import patsy\n",
    "import numpy as np\n",
    "import pandas as pd\n",
    "import statsmodels.api as sm\n",
    "import statsmodels.formula.api as smf\n",
    "\n",
    "print(\"patsy      \", patsy.__version__)\n",
    "print(\"numpy      \", np.__version__)\n",
    "print(\"pandas     \", pd.__version__)\n",
    "print(\"statsmodels\", sm.__version__)"
   ]
  },
  {
   "cell_type": "markdown",
   "metadata": {},
   "source": [
    "## Setting up the Data"
   ]
  },
  {
   "cell_type": "code",
   "execution_count": 7,
   "metadata": {},
   "outputs": [
    {
     "name": "stdout",
     "output_type": "stream",
     "text": [
      "<class 'pandas.core.frame.DataFrame'>\n",
      "RangeIndex: 5735 entries, 0 to 5734\n",
      "Data columns (total 7 columns):\n",
      " #   Column  Non-Null Count  Dtype  \n",
      "---  ------  --------------  -----  \n",
      " 0   Y       5735 non-null   int64  \n",
      " 1   A       5735 non-null   int64  \n",
      " 2   C       5735 non-null   int64  \n",
      " 3   W1      5735 non-null   float64\n",
      " 4   W2      5735 non-null   float64\n",
      " 5   W3      5735 non-null   object \n",
      " 6   W4      5735 non-null   object \n",
      "dtypes: float64(2), int64(3), object(2)\n",
      "memory usage: 313.8+ KB\n"
     ]
    }
   ],
   "source": [
    "# Box 1: Setting up the data\n",
    "data = pd.read_csv(\"rhc.csv\")\n",
    "data.rename(columns={\"rhc\": \"A\", \n",
    "                     \"death_d30\": \"Y\",\n",
    "                     \"gender\": \"C\",\n",
    "                     \"age\": \"W1\",\n",
    "                     \"edu\": \"W2\",\n",
    "                     \"race\": \"W3\",\n",
    "                     \"carcinoma\": \"W4\",\n",
    "            }, inplace=True)\n",
    "data['A'] = np.where(data['A'] == \"Yes\", 1, 0)\n",
    "data['C'] = np.where(data['C'] == \"Female\", 1, 0)\n",
    "\n",
    "data = data[[\"Y\", \"A\", \"C\", \"W1\", \"W2\", \"W3\", \"W4\"]].copy()\n",
    "data.info()"
   ]
  },
  {
   "cell_type": "markdown",
   "metadata": {},
   "source": [
    "## Naive estimate of the ATE"
   ]
  },
  {
   "cell_type": "code",
   "execution_count": 13,
   "metadata": {},
   "outputs": [
    {
     "name": "stdout",
     "output_type": "stream",
     "text": [
      "0.07352\n"
     ]
    },
    {
     "data": {
      "text/html": [
       "<table class=\"simpletable\">\n",
       "<caption>OLS Regression Results</caption>\n",
       "<tr>\n",
       "  <th>Dep. Variable:</th>            <td>Y</td>        <th>  R-squared:         </th> <td>   0.006</td>\n",
       "</tr>\n",
       "<tr>\n",
       "  <th>Model:</th>                   <td>OLS</td>       <th>  Adj. R-squared:    </th> <td>   0.005</td>\n",
       "</tr>\n",
       "<tr>\n",
       "  <th>Method:</th>             <td>Least Squares</td>  <th>  F-statistic:       </th> <td>   16.59</td>\n",
       "</tr>\n",
       "<tr>\n",
       "  <th>Date:</th>             <td>Fri, 04 Dec 2020</td> <th>  Prob (F-statistic):</th> <td>6.58e-08</td>\n",
       "</tr>\n",
       "<tr>\n",
       "  <th>Time:</th>                 <td>13:57:32</td>     <th>  Log-Likelihood:    </th> <td> -3812.9</td>\n",
       "</tr>\n",
       "<tr>\n",
       "  <th>No. Observations:</th>      <td>  5735</td>      <th>  AIC:               </th> <td>   7632.</td>\n",
       "</tr>\n",
       "<tr>\n",
       "  <th>Df Residuals:</th>          <td>  5732</td>      <th>  BIC:               </th> <td>   7652.</td>\n",
       "</tr>\n",
       "<tr>\n",
       "  <th>Df Model:</th>              <td>     2</td>      <th>                     </th>     <td> </td>   \n",
       "</tr>\n",
       "<tr>\n",
       "  <th>Covariance Type:</th>      <td>nonrobust</td>    <th>                     </th>     <td> </td>   \n",
       "</tr>\n",
       "</table>\n",
       "<table class=\"simpletable\">\n",
       "<tr>\n",
       "      <td></td>         <th>coef</th>     <th>std err</th>      <th>t</th>      <th>P>|t|</th>  <th>[0.025</th>    <th>0.975]</th>  \n",
       "</tr>\n",
       "<tr>\n",
       "  <th>Intercept</th> <td>    0.3077</td> <td>    0.010</td> <td>   31.454</td> <td> 0.000</td> <td>    0.288</td> <td>    0.327</td>\n",
       "</tr>\n",
       "<tr>\n",
       "  <th>A</th>         <td>    0.0735</td> <td>    0.013</td> <td>    5.739</td> <td> 0.000</td> <td>    0.048</td> <td>    0.099</td>\n",
       "</tr>\n",
       "<tr>\n",
       "  <th>C</th>         <td>   -0.0027</td> <td>    0.013</td> <td>   -0.219</td> <td> 0.826</td> <td>   -0.027</td> <td>    0.022</td>\n",
       "</tr>\n",
       "</table>\n",
       "<table class=\"simpletable\">\n",
       "<tr>\n",
       "  <th>Omnibus:</th>       <td>36985.427</td> <th>  Durbin-Watson:     </th> <td>   1.981</td> \n",
       "</tr>\n",
       "<tr>\n",
       "  <th>Prob(Omnibus):</th>  <td> 0.000</td>   <th>  Jarque-Bera (JB):  </th> <td> 993.118</td> \n",
       "</tr>\n",
       "<tr>\n",
       "  <th>Skew:</th>           <td> 0.696</td>   <th>  Prob(JB):          </th> <td>2.22e-216</td>\n",
       "</tr>\n",
       "<tr>\n",
       "  <th>Kurtosis:</th>       <td> 1.511</td>   <th>  Cond. No.          </th> <td>    2.93</td> \n",
       "</tr>\n",
       "</table><br/><br/>Warnings:<br/>[1] Standard Errors assume that the covariance matrix of the errors is correctly specified."
      ],
      "text/plain": [
       "<class 'statsmodels.iolib.summary.Summary'>\n",
       "\"\"\"\n",
       "                            OLS Regression Results                            \n",
       "==============================================================================\n",
       "Dep. Variable:                      Y   R-squared:                       0.006\n",
       "Model:                            OLS   Adj. R-squared:                  0.005\n",
       "Method:                 Least Squares   F-statistic:                     16.59\n",
       "Date:                Fri, 04 Dec 2020   Prob (F-statistic):           6.58e-08\n",
       "Time:                        13:57:32   Log-Likelihood:                -3812.9\n",
       "No. Observations:                5735   AIC:                             7632.\n",
       "Df Residuals:                    5732   BIC:                             7652.\n",
       "Df Model:                           2                                         \n",
       "Covariance Type:            nonrobust                                         \n",
       "==============================================================================\n",
       "                 coef    std err          t      P>|t|      [0.025      0.975]\n",
       "------------------------------------------------------------------------------\n",
       "Intercept      0.3077      0.010     31.454      0.000       0.288       0.327\n",
       "A              0.0735      0.013      5.739      0.000       0.048       0.099\n",
       "C             -0.0027      0.013     -0.219      0.826      -0.027       0.022\n",
       "==============================================================================\n",
       "Omnibus:                    36985.427   Durbin-Watson:                   1.981\n",
       "Prob(Omnibus):                  0.000   Jarque-Bera (JB):              993.118\n",
       "Skew:                           0.696   Prob(JB):                    2.22e-216\n",
       "Kurtosis:                       1.511   Cond. No.                         2.93\n",
       "==============================================================================\n",
       "\n",
       "Warnings:\n",
       "[1] Standard Errors assume that the covariance matrix of the errors is correctly specified.\n",
       "\"\"\""
      ]
     },
     "execution_count": 13,
     "metadata": {},
     "output_type": "execute_result"
    }
   ],
   "source": [
    "# Box 2: Regression naive approach\n",
    "fm = smf.ols(\"Y ~ A + C\", data).fit()\n",
    "print(np.round(fm.params['A'], 5))  # ATE = 0.07352\n",
    "fm.summary()  # Full model results"
   ]
  },
  {
   "cell_type": "code",
   "execution_count": 19,
   "metadata": {},
   "outputs": [
    {
     "name": "stdout",
     "output_type": "stream",
     "text": [
      "Prop. Female 0.44\n",
      "Prop. Male   0.56\n"
     ]
    }
   ],
   "source": [
    "# Box 3: Marginal probabilities\n",
    "pr_c1 = np.mean(data['C'])\n",
    "pr_c0 = 1 - pr_c1\n",
    "print(\"Prop. Female\", np.round(pr_c1, 2))\n",
    "print(\"Prop. Male  \", np.round(pr_c0, 2))"
   ]
  },
  {
   "cell_type": "markdown",
   "metadata": {},
   "source": [
    "## 3. G-Formula\n",
    "\n",
    "### 3.1 Non-parametric g-formula"
   ]
  },
  {
   "cell_type": "code",
   "execution_count": 41,
   "metadata": {},
   "outputs": [
    {
     "name": "stdout",
     "output_type": "stream",
     "text": [
      "ATE 0.073692\n"
     ]
    }
   ],
   "source": [
    "# Box 4: Non-parametric g-formula for the ATE\n",
    "pr_y_a1c1 = np.mean(data.loc[(data['C'] == 1) & (data['A'] == 1), 'Y'])\n",
    "pr_y_a0c1 = np.mean(data.loc[(data['C'] == 1) & (data['A'] == 0), 'Y'])\n",
    "pr_y_a1c0 = np.mean(data.loc[(data['C'] == 0) & (data['A'] == 1), 'Y'])\n",
    "pr_y_a0c0 = np.mean(data.loc[(data['C'] == 0) & (data['A'] == 0), 'Y'])\n",
    "\n",
    "ate = (pr_y_a1c1 - pr_y_a0c1)*pr_c1 + (pr_y_a1c0 - pr_y_a0c0)*pr_c0\n",
    "print(\"ATE\", np.round(ate, 6))"
   ]
  },
  {
   "cell_type": "code",
   "execution_count": 42,
   "metadata": {},
   "outputs": [
    {
     "name": "stdout",
     "output_type": "stream",
     "text": [
      "ATT 0.073248\n"
     ]
    }
   ],
   "source": [
    "# Box 5: Non-parametric g-formula for the ATT\n",
    "pr_c1_a1 = np.mean(data.loc[data['A'] == 1, 'C'])\n",
    "pr_c0_a1 = 1 - pr_c1_a1\n",
    "\n",
    "att = (pr_y_a1c1 - pr_y_a0c1)*pr_c1_a1 + (pr_y_a1c0 - pr_y_a0c0)*pr_c0_a1\n",
    "print(\"ATT\", np.round(att, 6))"
   ]
  },
  {
   "cell_type": "code",
   "execution_count": 43,
   "metadata": {},
   "outputs": [
    {
     "name": "stdout",
     "output_type": "stream",
     "text": [
      "95% Confidence limits for the ATE\n",
      "Percentile method:     [0.048553 0.093859]\n",
      "Standard error method: [0.048678 0.098706]\n",
      "\n",
      "95% Confidence limits for the ATT\n",
      "Percentile method:     [0.050157 0.098636]\n",
      "Standard error method: [0.048181 0.098315]\n"
     ]
    }
   ],
   "source": [
    "# Box 6: Bootstrap the 95% confidence intervals (CI) for the\n",
    "#        ATE/ATT estimated using the non-parametric G-Formula\n",
    "\n",
    "def ate_nonparm_gformula(d):\n",
    "    \"\"\"Function to estimate the ATE using the nonparametric\n",
    "    g-formula\"\"\"\n",
    "    pr_c1 = np.mean(d['C'])\n",
    "    pr_c0 = 1 - pr_c1\n",
    "\n",
    "    pr_y_11 = np.mean(d.loc[(d['C'] == 1) & (d['A'] == 1), 'Y'])\n",
    "    pr_y_01 = np.mean(d.loc[(d['C'] == 1) & (d['A'] == 0), 'Y'])\n",
    "    pr_y_10 = np.mean(d.loc[(d['C'] == 0) & (d['A'] == 1), 'Y'])\n",
    "    pr_y_00 = np.mean(d.loc[(d['C'] == 0) & (d['A'] == 0), 'Y'])\n",
    "    \n",
    "    return (pr_y_11 - pr_y_01)*pr_c1 + (pr_y_10 - pr_y_00)*pr_c0\n",
    "\n",
    "## ATE ##\n",
    "ate_rs = []\n",
    "for i in range(200):  # Drawing 200 bootstrapped samples\n",
    "    d_star = data.sample(n=data.shape[0], # Same size as input data\n",
    "                         replace=True)  # Draw with replacement\n",
    "    ate_rs.append(ate_nonparm_gformula(d=d_star))\n",
    "\n",
    "print(\"95% Confidence limits for the ATE\")\n",
    "ci_perc = np.percentile(ate_rs, q=[2.5, 97.5])\n",
    "print(\"Percentile method:    \", np.round(ci_perc, 6))\n",
    "ate_se = np.std(ate_rs, ddof=1)\n",
    "print(\"Standard error method:\", np.round([ate - 1.96*ate_se,\n",
    "                                          ate + 1.96*ate_se], 6))\n",
    "\n",
    "\n",
    "def att_nonparm_gformula(d):\n",
    "    \"\"\"Function to estimate the ATT using the nonparametric\n",
    "    g-formula\"\"\"\n",
    "    pr_c1_a1 = np.mean(d.loc[data['A'] == 1, 'C'])\n",
    "    pr_c0_a1 = 1 - pr_c1_a1\n",
    "\n",
    "    pr_y_11 = np.mean(d.loc[(d['C'] == 1) & (d['A'] == 1), 'Y'])\n",
    "    pr_y_01 = np.mean(d.loc[(d['C'] == 1) & (d['A'] == 0), 'Y'])\n",
    "    pr_y_10 = np.mean(d.loc[(d['C'] == 0) & (d['A'] == 1), 'Y'])\n",
    "    pr_y_00 = np.mean(d.loc[(d['C'] == 0) & (d['A'] == 0), 'Y'])\n",
    "    \n",
    "    return (pr_y_11 - pr_y_01)*pr_c1_a1 + (pr_y_10 - pr_y_00)*pr_c0_a1\n",
    "\n",
    "\n",
    "## ATT ##\n",
    "att_rs = []\n",
    "for i in range(200):  # Drawing 200 bootstrapped samples\n",
    "    d_star = data.sample(n=data.shape[0], # Same size as input data\n",
    "                         replace=True)  # Draw with replacement\n",
    "    att_rs.append(att_nonparm_gformula(d=d_star))\n",
    "\n",
    "print(\"\\n95% Confidence limits for the ATT\")\n",
    "ci_perc = np.percentile(att_rs, q=[2.5, 97.5])\n",
    "print(\"Percentile method:    \", np.round(ci_perc, 6))\n",
    "att_se = np.std(att_rs, ddof=1)\n",
    "print(\"Standard error method:\", np.round([att - 1.96*att_se,\n",
    "                                          att + 1.96*att_se], 6))    "
   ]
  },
  {
   "cell_type": "code",
   "execution_count": 44,
   "metadata": {},
   "outputs": [
    {
     "name": "stdout",
     "output_type": "stream",
     "text": [
      "0.073692\n"
     ]
    }
   ],
   "source": [
    "# Box 7: Non-parametric g-formula using saturated regression model (A)\n",
    "data[\"A1\"] = np.where(data['A'] == 1, 1, 0)\n",
    "data[\"A0\"] = np.where(data['A'] == 0, 1, 0)\n",
    "fm = smf.ols(\"Y ~ A1 + A0 + A1:C + A0:C - 1\", data).fit()\n",
    "betas = fm.params\n",
    "ate = np.mean((betas[\"A1\"] + betas[\"A1:C\"]*data[\"C\"]) -\n",
    "              (betas[\"A0\"] + betas[\"A0:C\"]*data[\"C\"]))\n",
    "\n",
    "print(np.round(ate, 6))"
   ]
  },
  {
   "cell_type": "code",
   "execution_count": null,
   "metadata": {},
   "outputs": [],
   "source": [
    "# Box 8: Non-parametric g-formula using saturated regression model (B)\n",
    "\n"
   ]
  },
  {
   "cell_type": "markdown",
   "metadata": {},
   "source": [
    "### 3.2 Parametric g-formula"
   ]
  },
  {
   "cell_type": "code",
   "execution_count": 47,
   "metadata": {},
   "outputs": [
    {
     "name": "stdout",
     "output_type": "stream",
     "text": [
      "ATE 0.073692\n"
     ]
    }
   ],
   "source": [
    "# Box 9: Parametric g-formula by hand\n",
    "f = sm.families.family.Binomial()  # Using logit model unlike prev\n",
    "fm_a1 = smf.glm(\"Y ~ C\", data.loc[data[\"A\"] == 1], family=f).fit()\n",
    "fm_a0 = smf.glm(\"Y ~ C\", data.loc[data[\"A\"] == 0], family=f).fit()\n",
    "\n",
    "y_a1 = fm_a1.predict(data['C'])\n",
    "y_a0 = fm_a0.predict(data['C'])\n",
    "ate = np.mean(y_a1 - y_a0)\n",
    "\n",
    "print(\"ATE\", np.round(ate, 6))"
   ]
  },
  {
   "cell_type": "code",
   "execution_count": null,
   "metadata": {},
   "outputs": [],
   "source": []
  },
  {
   "cell_type": "code",
   "execution_count": null,
   "metadata": {},
   "outputs": [],
   "source": []
  },
  {
   "cell_type": "code",
   "execution_count": null,
   "metadata": {},
   "outputs": [],
   "source": []
  },
  {
   "cell_type": "code",
   "execution_count": null,
   "metadata": {},
   "outputs": [],
   "source": []
  },
  {
   "cell_type": "code",
   "execution_count": null,
   "metadata": {},
   "outputs": [],
   "source": []
  },
  {
   "cell_type": "code",
   "execution_count": null,
   "metadata": {},
   "outputs": [],
   "source": []
  },
  {
   "cell_type": "code",
   "execution_count": null,
   "metadata": {},
   "outputs": [],
   "source": []
  },
  {
   "cell_type": "markdown",
   "metadata": {},
   "source": [
    "## 4. Inverse Probability of Treatment Weighting\n",
    "\n",
    "### 4.1 Inverse probability of treatment weighting based on the propensity score plus regression adjustment"
   ]
  },
  {
   "cell_type": "code",
   "execution_count": null,
   "metadata": {},
   "outputs": [],
   "source": []
  },
  {
   "cell_type": "code",
   "execution_count": null,
   "metadata": {},
   "outputs": [],
   "source": []
  },
  {
   "cell_type": "code",
   "execution_count": null,
   "metadata": {},
   "outputs": [],
   "source": []
  },
  {
   "cell_type": "code",
   "execution_count": null,
   "metadata": {},
   "outputs": [],
   "source": []
  },
  {
   "cell_type": "code",
   "execution_count": null,
   "metadata": {},
   "outputs": [],
   "source": []
  },
  {
   "cell_type": "code",
   "execution_count": null,
   "metadata": {},
   "outputs": [],
   "source": []
  },
  {
   "cell_type": "markdown",
   "metadata": {},
   "source": [
    "### 4.2 Marginal structural model with stabilised weights"
   ]
  },
  {
   "cell_type": "code",
   "execution_count": null,
   "metadata": {},
   "outputs": [],
   "source": []
  },
  {
   "cell_type": "markdown",
   "metadata": {},
   "source": [
    "### 4.3 IPTW with regression adjustment"
   ]
  },
  {
   "cell_type": "code",
   "execution_count": null,
   "metadata": {},
   "outputs": [],
   "source": []
  },
  {
   "cell_type": "code",
   "execution_count": null,
   "metadata": {},
   "outputs": [],
   "source": []
  },
  {
   "cell_type": "markdown",
   "metadata": {},
   "source": [
    "## 5. Augmented Inverse Probability Weighting"
   ]
  },
  {
   "cell_type": "code",
   "execution_count": null,
   "metadata": {},
   "outputs": [],
   "source": []
  },
  {
   "cell_type": "code",
   "execution_count": null,
   "metadata": {},
   "outputs": [],
   "source": []
  },
  {
   "cell_type": "markdown",
   "metadata": {},
   "source": [
    "## 6. Data-Adaptive Estimation: Ensemble Learning Targeted Maximum Likelihood Estimation"
   ]
  },
  {
   "cell_type": "code",
   "execution_count": null,
   "metadata": {},
   "outputs": [],
   "source": []
  },
  {
   "cell_type": "code",
   "execution_count": null,
   "metadata": {},
   "outputs": [],
   "source": []
  },
  {
   "cell_type": "markdown",
   "metadata": {},
   "source": [
    "## 7. Simulation"
   ]
  },
  {
   "cell_type": "code",
   "execution_count": null,
   "metadata": {},
   "outputs": [],
   "source": []
  },
  {
   "cell_type": "markdown",
   "metadata": {},
   "source": [
    "END"
   ]
  }
 ],
 "metadata": {
  "kernelspec": {
   "display_name": "Python 3",
   "language": "python",
   "name": "python3"
  },
  "language_info": {
   "codemirror_mode": {
    "name": "ipython",
    "version": 3
   },
   "file_extension": ".py",
   "mimetype": "text/x-python",
   "name": "python",
   "nbconvert_exporter": "python",
   "pygments_lexer": "ipython3",
   "version": "3.6.5"
  }
 },
 "nbformat": 4,
 "nbformat_minor": 4
}
